{
 "cells": [
  {
   "cell_type": "markdown",
   "id": "2b1c7da1",
   "metadata": {},
   "source": [
    "# Project title: Get a job in Lifebit"
   ]
  },
  {
   "cell_type": "markdown",
   "id": "8e08b53c",
   "metadata": {},
   "source": [
    "Priority: __high__"
   ]
  },
  {
   "cell_type": "code",
   "execution_count": 4,
   "id": "4a697ff6",
   "metadata": {},
   "outputs": [],
   "source": [
    "def measure_desire(text_input):\n",
    "    \"\"\"\n",
    "    This function measures the amount of desire/will to work in a company based on the text input.\n",
    "    \"\"\"\n",
    "    keywords = {\n",
    "        'passionate': 5,\n",
    "        'excited': 4,\n",
    "        'love': 4,\n",
    "        'devoted': 5,\n",
    "        'stand out': 3,\n",
    "        'vibrant team': 3,\n",
    "        'challenge': 4,\n",
    "        'career': 3,\n",
    "        'grow': 3,\n",
    "        'flourish': 4,\n",
    "        'help people': 4,\n",
    "        'solve': 3,\n",
    "        'scientific challenges': 4,\n",
    "        'remote work': 2,\n",
    "        'office visits': 2,\n",
    "    }\n",
    "    \n",
    "    score = 0\n",
    "    for keyword, value in keywords.items():\n",
    "        if keyword in text_input:\n",
    "            score += value\n",
    "            \n",
    "    return score"
   ]
  },
  {
   "cell_type": "code",
   "execution_count": 5,
   "id": "1ed4ab02",
   "metadata": {},
   "outputs": [],
   "source": [
    "cover_letter = \"\"\"\n",
    "Dear Lifebit team,\n",
    "\"Do you know why did the scarecrow get a promotion? Because he was outstanding in his field.\"- taken from the \n",
    "HBO Series “The Last of Us”. Jokes on the side, I’m a cancer researcher devotedly passionate about science and \n",
    "leaving a deep footprint everywhere I step. I want to use this opportunity to stand out and join your vibrant team.\n",
    "\n",
    "The story of my falling in love with data started in 2015 when I finished my first hands-on beginner course in R. \n",
    "Since then I finished more than 10 courses in using R and Python in Data Science and Bioinformatics, but most of \n",
    "my practical experience I gained through the analysis of a novel ovarian cancer resistance model which I developed \n",
    "along with my team. I established 8 ovarian cancer cell lines with increasing resistance to carboplatin and did the \n",
    "analysis of the transcriptome of every single one of them. It included Microarray datasets which were analysed and \n",
    "visualised using R. I also analyzed many sequencing datasets for practice and built ML models to predict resistance \n",
    "development and to find new biomarkers of ovarian cancer resistance to chemotherapy. \n",
    "\n",
    "During three years of my master's in Molecular Biology and five years of my PhD in Medicinal Chemistry, I learnt a \n",
    "lot. I spent thousands of hours in the lab, performed hundreds of experiments and analysed many sheets of data. I \n",
    "became well-organized and great at communicating science and I definitely mastered problem-solving. I worked on four \n",
    "different projects, led a small project of my own, held lectures and got awarded by the rector for excellence in my \n",
    "studies. I managed to eventually publish 6 research papers, with the additional two waiting for a review. I have a \n",
    "great understanding of statistics and machine learning, but more importantly, I love challenges. I have many skills, \n",
    "but the most important ones are stubbornness during learning, brainstorming, objective decision-making, team-playing, \n",
    "and high-level multitasking. These can be confirmed by reference letters which I can send to you, but most of it you'll \n",
    "see the day when I get my hands on the problem. To prove to you that time management is my strength, I also worked as \n",
    "a freelance creative content creator and moderator for a web platform and trained kids in karate twice a week. I also \n",
    "love to do agriculture, and sports and write short novels.\n",
    "\n",
    "My lifetime wish is to leave a footprint while doing what I love. Since I love biology and I am deeply involved in data,\n",
    "I imagine myself being at the intersection of biology, clinical pharmacology, data science and the client’s wish. \n",
    "My imagination comes to life through the role of a bioinformatician in a company like yours. You, as a growing company\n",
    "supporting the scientific community and successfully bridging industry-set gaps, seem like a perfect place for me to \n",
    "grow and flourish. \n",
    "\n",
    "Since we both share a desire to help people and solve big scientific challenges, I would love to work and learn with you.\n",
    "I am open and comfortable with remote work and occasional office visits. Please let me know if this proposal seems \n",
    "interesting to you. \n",
    "\n",
    "Sincerely,\n",
    "\n",
    "Dr Juran Kralj\n",
    "Zagreb, 25th of April, 2023\n",
    "\"\"\""
   ]
  },
  {
   "cell_type": "code",
   "execution_count": 6,
   "id": "75fd94d9",
   "metadata": {},
   "outputs": [
    {
     "name": "stdout",
     "output_type": "stream",
     "text": [
      "My desire/will to work in this company is: 46/50\n"
     ]
    }
   ],
   "source": [
    "score = measure_desire(cover_letter)\n",
    "print(f\"My desire/will to work in this company is: {score}/50\")"
   ]
  }
 ],
 "metadata": {
  "kernelspec": {
   "display_name": "Python 3 (ipykernel)",
   "language": "python",
   "name": "python3"
  },
  "language_info": {
   "codemirror_mode": {
    "name": "ipython",
    "version": 3
   },
   "file_extension": ".py",
   "mimetype": "text/x-python",
   "name": "python",
   "nbconvert_exporter": "python",
   "pygments_lexer": "ipython3",
   "version": "3.11.2"
  }
 },
 "nbformat": 4,
 "nbformat_minor": 5
}
